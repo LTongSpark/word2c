{
 "cells": [
  {
   "cell_type": "code",
   "execution_count": 1,
   "metadata": {
    "collapsed": true
   },
   "outputs": [],
   "source": [
    "import pandas as pd\n",
    "import matplotlib.pylab as plt\n",
    "import numpy as np\n",
    "import random\n",
    "from tqdm import tqdm\n",
    "from gensim.models import Word2Vec\n",
    "import warnings\n",
    "import missingno\n",
    "%matplotlib inline"
   ]
  },
  {
   "cell_type": "code",
   "execution_count": 2,
   "metadata": {
    "collapsed": true
   },
   "outputs": [],
   "source": [
    "warnings.filterwarnings('ignore')"
   ]
  },
  {
   "cell_type": "code",
   "execution_count": 3,
   "metadata": {},
   "outputs": [
    {
     "data": {
      "text/html": [
       "<div>\n",
       "<style scoped>\n",
       "    .dataframe tbody tr th:only-of-type {\n",
       "        vertical-align: middle;\n",
       "    }\n",
       "\n",
       "    .dataframe tbody tr th {\n",
       "        vertical-align: top;\n",
       "    }\n",
       "\n",
       "    .dataframe thead th {\n",
       "        text-align: right;\n",
       "    }\n",
       "</style>\n",
       "<table border=\"1\" class=\"dataframe\">\n",
       "  <thead>\n",
       "    <tr style=\"text-align: right;\">\n",
       "      <th></th>\n",
       "      <th>InvoiceNo</th>\n",
       "      <th>StockCode</th>\n",
       "      <th>Description</th>\n",
       "      <th>Quantity</th>\n",
       "      <th>InvoiceDate</th>\n",
       "      <th>UnitPrice</th>\n",
       "      <th>CustomerID</th>\n",
       "      <th>Country</th>\n",
       "    </tr>\n",
       "  </thead>\n",
       "  <tbody>\n",
       "    <tr>\n",
       "      <th>0</th>\n",
       "      <td>536365</td>\n",
       "      <td>85123A</td>\n",
       "      <td>WHITE HANGING HEART T-LIGHT HOLDER</td>\n",
       "      <td>6</td>\n",
       "      <td>2010-12-01 08:26:00</td>\n",
       "      <td>2.55</td>\n",
       "      <td>17850.0</td>\n",
       "      <td>United Kingdom</td>\n",
       "    </tr>\n",
       "    <tr>\n",
       "      <th>1</th>\n",
       "      <td>536365</td>\n",
       "      <td>71053</td>\n",
       "      <td>WHITE METAL LANTERN</td>\n",
       "      <td>6</td>\n",
       "      <td>2010-12-01 08:26:00</td>\n",
       "      <td>3.39</td>\n",
       "      <td>17850.0</td>\n",
       "      <td>United Kingdom</td>\n",
       "    </tr>\n",
       "    <tr>\n",
       "      <th>2</th>\n",
       "      <td>536365</td>\n",
       "      <td>84406B</td>\n",
       "      <td>CREAM CUPID HEARTS COAT HANGER</td>\n",
       "      <td>8</td>\n",
       "      <td>2010-12-01 08:26:00</td>\n",
       "      <td>2.75</td>\n",
       "      <td>17850.0</td>\n",
       "      <td>United Kingdom</td>\n",
       "    </tr>\n",
       "    <tr>\n",
       "      <th>3</th>\n",
       "      <td>536365</td>\n",
       "      <td>84029G</td>\n",
       "      <td>KNITTED UNION FLAG HOT WATER BOTTLE</td>\n",
       "      <td>6</td>\n",
       "      <td>2010-12-01 08:26:00</td>\n",
       "      <td>3.39</td>\n",
       "      <td>17850.0</td>\n",
       "      <td>United Kingdom</td>\n",
       "    </tr>\n",
       "    <tr>\n",
       "      <th>4</th>\n",
       "      <td>536365</td>\n",
       "      <td>84029E</td>\n",
       "      <td>RED WOOLLY HOTTIE WHITE HEART.</td>\n",
       "      <td>6</td>\n",
       "      <td>2010-12-01 08:26:00</td>\n",
       "      <td>3.39</td>\n",
       "      <td>17850.0</td>\n",
       "      <td>United Kingdom</td>\n",
       "    </tr>\n",
       "  </tbody>\n",
       "</table>\n",
       "</div>"
      ],
      "text/plain": [
       "  InvoiceNo StockCode                          Description  Quantity  \\\n",
       "0    536365    85123A   WHITE HANGING HEART T-LIGHT HOLDER         6   \n",
       "1    536365     71053                  WHITE METAL LANTERN         6   \n",
       "2    536365    84406B       CREAM CUPID HEARTS COAT HANGER         8   \n",
       "3    536365    84029G  KNITTED UNION FLAG HOT WATER BOTTLE         6   \n",
       "4    536365    84029E       RED WOOLLY HOTTIE WHITE HEART.         6   \n",
       "\n",
       "          InvoiceDate  UnitPrice  CustomerID         Country  \n",
       "0 2010-12-01 08:26:00       2.55     17850.0  United Kingdom  \n",
       "1 2010-12-01 08:26:00       3.39     17850.0  United Kingdom  \n",
       "2 2010-12-01 08:26:00       2.75     17850.0  United Kingdom  \n",
       "3 2010-12-01 08:26:00       3.39     17850.0  United Kingdom  \n",
       "4 2010-12-01 08:26:00       3.39     17850.0  United Kingdom  "
      ]
     },
     "execution_count": 3,
     "metadata": {},
     "output_type": "execute_result"
    }
   ],
   "source": [
    "df = pd.read_excel('D:\\mr\\Online Retail.xlsx' ,encoding='utf-8')\n",
    "df.head()"
   ]
  },
  {
   "cell_type": "code",
   "execution_count": 11,
   "metadata": {},
   "outputs": [
    {
     "data": {
      "text/plain": [
       "Index(['InvoiceNo', 'StockCode', 'Description', 'Quantity', 'InvoiceDate',\n",
       "       'UnitPrice', 'CustomerID', 'Country'],\n",
       "      dtype='object')"
      ]
     },
     "execution_count": 11,
     "metadata": {},
     "output_type": "execute_result"
    }
   ],
   "source": [
    "df.columns"
   ]
  },
  {
   "cell_type": "code",
   "execution_count": 12,
   "metadata": {
    "collapsed": true
   },
   "outputs": [],
   "source": [
    "# InvoiceNo', 账单号，分配给每笔交易的唯一编号\n",
    "# 'StockCode', 商品的代码\n",
    "# 'Description', 商品的描述\n",
    "# 'Quantity', 每笔交易每种商品的数量\n",
    "# 'InvoiceDate',每笔交易的日期\n",
    "# 'UnitPrice', 价格\n",
    "# 'CustomerID', 消费者编号。分配给每一个消费者的唯一编号\n",
    "# 'Country'国家"
   ]
  },
  {
   "cell_type": "code",
   "execution_count": 8,
   "metadata": {},
   "outputs": [
    {
     "data": {
      "text/plain": [
       "(541909, 8)"
      ]
     },
     "execution_count": 8,
     "metadata": {},
     "output_type": "execute_result"
    }
   ],
   "source": [
    "df.shape"
   ]
  },
  {
   "cell_type": "code",
   "execution_count": 10,
   "metadata": {},
   "outputs": [
    {
     "data": {
      "text/plain": [
       "InvoiceNo           0\n",
       "StockCode           0\n",
       "Description      1454\n",
       "Quantity            0\n",
       "InvoiceDate         0\n",
       "UnitPrice           0\n",
       "CustomerID     135080\n",
       "Country             0\n",
       "dtype: int64"
      ]
     },
     "execution_count": 10,
     "metadata": {},
     "output_type": "execute_result"
    }
   ],
   "source": [
    "df.isnull().sum()"
   ]
  },
  {
   "cell_type": "code",
   "execution_count": 11,
   "metadata": {},
   "outputs": [
    {
     "data": {
      "text/plain": [
       "<matplotlib.axes._subplots.AxesSubplot at 0x21e53589940>"
      ]
     },
     "execution_count": 11,
     "metadata": {},
     "output_type": "execute_result"
    },
    {
     "data": {
      "image/png": "[encoded data removed]",
      "text/plain": [
       "<matplotlib.figure.Figure at 0x21e249990b8>"
      ]
     },
     "metadata": {},
     "output_type": "display_data"
    }
   ],
   "source": [
    "missingno.matrix(df)"
   ]
  },
  {
   "cell_type": "code",
   "execution_count": 50,
   "metadata": {
    "collapsed": true
   },
   "outputs": [],
   "source": [
    "#df[df.isnull().values==True]"
   ]
  },
  {
   "cell_type": "code",
   "execution_count": 12,
   "metadata": {},
   "outputs": [
    {
     "name": "stdout",
     "output_type": "stream",
     "text": [
      "<class 'pandas.core.frame.DataFrame'>\n",
      "RangeIndex: 541909 entries, 0 to 541908\n",
      "Data columns (total 8 columns):\n",
      "InvoiceNo      541909 non-null object\n",
      "StockCode      541909 non-null object\n",
      "Description    540455 non-null object\n",
      "Quantity       541909 non-null int64\n",
      "InvoiceDate    541909 non-null datetime64[ns]\n",
      "UnitPrice      541909 non-null float64\n",
      "CustomerID     406829 non-null float64\n",
      "Country        541909 non-null object\n",
      "dtypes: datetime64[ns](1), float64(2), int64(1), object(4)\n",
      "memory usage: 33.1+ MB\n"
     ]
    }
   ],
   "source": [
    "df.info()"
   ]
  },
  {
   "cell_type": "code",
   "execution_count": 13,
   "metadata": {
    "collapsed": true
   },
   "outputs": [],
   "source": [
    "df.dropna(inplace=True)"
   ]
  },
  {
   "cell_type": "code",
   "execution_count": 14,
   "metadata": {},
   "outputs": [
    {
     "name": "stdout",
     "output_type": "stream",
     "text": [
      "<class 'pandas.core.frame.DataFrame'>\n",
      "Int64Index: 406829 entries, 0 to 541908\n",
      "Data columns (total 8 columns):\n",
      "InvoiceNo      406829 non-null object\n",
      "StockCode      406829 non-null object\n",
      "Description    406829 non-null object\n",
      "Quantity       406829 non-null int64\n",
      "InvoiceDate    406829 non-null datetime64[ns]\n",
      "UnitPrice      406829 non-null float64\n",
      "CustomerID     406829 non-null float64\n",
      "Country        406829 non-null object\n",
      "dtypes: datetime64[ns](1), float64(2), int64(1), object(4)\n",
      "memory usage: 27.9+ MB\n"
     ]
    }
   ],
   "source": [
    "df.info()"
   ]
  },
  {
   "cell_type": "code",
   "execution_count": 15,
   "metadata": {
    "collapsed": true
   },
   "outputs": [],
   "source": [
    "df['StockCode'] = df.StockCode.astype(str)"
   ]
  },
  {
   "cell_type": "code",
   "execution_count": 16,
   "metadata": {
    "collapsed": true
   },
   "outputs": [],
   "source": [
    "#看一下总共有多少个消费者\n",
    "customers = df.CustomerID.unique().tolist()"
   ]
  },
  {
   "cell_type": "code",
   "execution_count": 17,
   "metadata": {
    "collapsed": true
   },
   "outputs": [],
   "source": [
    "#将数据分割成1:9\n",
    "#打乱消费者id\n",
    "random.shuffle(customers)\n",
    "#提取%90的消费者\n",
    "customers_train = [customers[i] for i in range(round(0.9 * len(customers)))]\n",
    "\n",
    "#分为测试集和训练集\n",
    "train_df = df[df.CustomerID.isin(customers_train)]\n",
    "test_df = df[~df.CustomerID.isin(customers_train)]"
   ]
  },
  {
   "cell_type": "code",
   "execution_count": 18,
   "metadata": {
    "collapsed": true
   },
   "outputs": [],
   "source": [
    "#将在数据集中为训练集和验证集创建消费者购买的序列"
   ]
  },
  {
   "cell_type": "code",
   "execution_count": 19,
   "metadata": {},
   "outputs": [
    {
     "name": "stderr",
     "output_type": "stream",
     "text": [
      "100%|████████████████████████████████████████████████████████████████████████████| 3935/3935 [00:03<00:00, 1133.77it/s]\n",
      "100%|██████████████████████████████████████████████████████████████████████████████| 437/437 [00:00<00:00, 1510.71it/s]\n"
     ]
    }
   ],
   "source": [
    "#存储消费者的历史\n",
    "purchases_train = []\n",
    "for i in tqdm(customers_train):\n",
    "    #用商品列表填充列表\n",
    "    temp = train_df[train_df.CustomerID == i][\"StockCode\"].tolist()\n",
    "    purchases_train.append(temp)\n",
    "# 存储消费者的购买历史\n",
    "purchases_val = []\n",
    "# 用商品代码填充列表\n",
    "for i in tqdm(test_df['CustomerID'].unique()):\n",
    "    temp = test_df[test_df[\"CustomerID\"] == i][\"StockCode\"].tolist()\n",
    "    purchases_val.append(temp)"
   ]
  },
  {
   "cell_type": "code",
   "execution_count": 55,
   "metadata": {
    "collapsed": true
   },
   "outputs": [],
   "source": [
    "#构建word2vec"
   ]
  },
  {
   "cell_type": "code",
   "execution_count": 20,
   "metadata": {
    "collapsed": true
   },
   "outputs": [],
   "source": [
    "#训练Word2vec\n",
    "model = Word2Vec(window = 10, sg = 1, hs = 0,\n",
    "negative = 10, # for negative sampling\n",
    "alpha=0.03, min_alpha=0.0007,\n",
    "seed = 14)\n"
   ]
  },
  {
   "cell_type": "code",
   "execution_count": 63,
   "metadata": {},
   "outputs": [
    {
     "data": {
      "text/plain": [
       "0"
      ]
     },
     "execution_count": 63,
     "metadata": {},
     "output_type": "execute_result"
    }
   ],
   "source": []
  },
  {
   "cell_type": "code",
   "execution_count": 21,
   "metadata": {},
   "outputs": [
    {
     "data": {
      "text/plain": [
       "(3613338, 3650580)"
      ]
     },
     "execution_count": 21,
     "metadata": {},
     "output_type": "execute_result"
    }
   ],
   "source": [
    "model.build_vocab(purchases_train,progress_per=200)\n",
    "model.train(purchases_train,total_examples=model.corpus_count,epochs=10 ,report_delay=1)"
   ]
  },
  {
   "cell_type": "code",
   "execution_count": 22,
   "metadata": {
    "collapsed": true
   },
   "outputs": [],
   "source": [
    "#因为我们不打算进一步训练模型，所以我们在这里调用init_sims()。这将使模型的内存效率更高:\n",
    "model.init_sims(replace=True)"
   ]
  },
  {
   "cell_type": "code",
   "execution_count": 23,
   "metadata": {
    "scrolled": true
   },
   "outputs": [
    {
     "name": "stdout",
     "output_type": "stream",
     "text": [
      "Word2Vec(vocab=3164, size=100, alpha=0.03)\n"
     ]
    }
   ],
   "source": [
    "print(model)"
   ]
  },
  {
   "cell_type": "code",
   "execution_count": 24,
   "metadata": {},
   "outputs": [
    {
     "name": "stdout",
     "output_type": "stream",
     "text": [
      "[[ 0.02190457 -0.04809377  0.11380713 ... -0.02021605 -0.10473676\n",
      "  -0.11122163]\n",
      " [-0.02042397  0.08106526  0.01668413 ... -0.0753101   0.21171248\n",
      "  -0.12881897]\n",
      " [-0.11839431 -0.18162364  0.00857946 ...  0.04739951  0.00302798\n",
      "   0.08682857]\n",
      " ...\n",
      " [-0.07328934  0.00945811  0.07973362 ... -0.08618595 -0.0584705\n",
      "  -0.00277081]\n",
      " [-0.17223777 -0.11222561 -0.16132118 ... -0.0219084  -0.09660339\n",
      "  -0.06489206]\n",
      " [ 0.02703689 -0.09813074  0.23526369 ...  0.1325922  -0.0905362\n",
      "  -0.07227562]]\n"
     ]
    }
   ],
   "source": [
    "x = model[model.wv.vocab]\n",
    "print(x)"
   ]
  },
  {
   "cell_type": "code",
   "execution_count": 25,
   "metadata": {},
   "outputs": [
    {
     "data": {
      "text/plain": [
       "<matplotlib.collections.PathCollection at 0x21e554b7f60>"
      ]
     },
     "execution_count": 25,
     "metadata": {},
     "output_type": "execute_result"
    },
    {
     "data": {
      "image/png": "[encoded data removed]",
      "text/plain": [
       "<matplotlib.figure.Figure at 0x21e5325a6d8>"
      ]
     },
     "metadata": {},
     "output_type": "display_data"
    }
   ],
   "source": [
    "import umap\n",
    "cluster_embedding = umap.UMAP(n_neighbors=30, min_dist=0.0,\n",
    "n_components=2, random_state=42).fit_transform(x)\n",
    "plt.figure(figsize=(10,9))\n",
    "plt.scatter(cluster_embedding[:, 0], cluster_embedding[:, 1], s=3, cmap='Spectral')"
   ]
  },
  {
   "cell_type": "code",
   "execution_count": 26,
   "metadata": {
    "collapsed": true
   },
   "outputs": [],
   "source": [
    "#开始推荐商品"
   ]
  },
  {
   "cell_type": "code",
   "execution_count": 27,
   "metadata": {
    "collapsed": true
   },
   "outputs": [],
   "source": [
    "products = train_df[[\"StockCode\", \"Description\"]]\n",
    "# 去重\n",
    "products.drop_duplicates(inplace=True, subset='StockCode', keep=\"last\")\n",
    "# 创建一个商品id和商品描述的字典\n",
    "products_dict = products.groupby('StockCode')['Description'].apply(list).to_dict()"
   ]
  },
  {
   "cell_type": "code",
   "execution_count": 28,
   "metadata": {},
   "outputs": [
    {
     "data": {
      "text/plain": [
       "['RED WOOLLY HOTTIE WHITE HEART.']"
      ]
     },
     "execution_count": 28,
     "metadata": {},
     "output_type": "execute_result"
    }
   ],
   "source": [
    "products_dict['84029E']"
   ]
  },
  {
   "cell_type": "code",
   "execution_count": 32,
   "metadata": {},
   "outputs": [
    {
     "data": {
      "text/plain": [
       "['SILVER M.O.P ORBIT DROP EARRINGS']"
      ]
     },
     "execution_count": 32,
     "metadata": {},
     "output_type": "execute_result"
    }
   ],
   "source": [
    "products_dict['90018A']"
   ]
  },
  {
   "cell_type": "code",
   "execution_count": 35,
   "metadata": {
    "scrolled": true
   },
   "outputs": [
    {
     "data": {
      "text/plain": [
       "[('90018A', 0.7636033296585083),\n",
       " ('90160D', 0.7512990832328796),\n",
       " ('90120B', 0.7402127981185913),\n",
       " ('90123A', 0.7402055263519287),\n",
       " ('90175C', 0.7379810810089111),\n",
       " ('90161A', 0.7296504974365234),\n",
       " ('90183A', 0.7132898569107056),\n",
       " ('90177D', 0.7029533386230469),\n",
       " ('90162C', 0.7026422023773193)]"
      ]
     },
     "execution_count": 35,
     "metadata": {},
     "output_type": "execute_result"
    }
   ],
   "source": [
    "ms = model.similar_by_vector(model['90019A'])[1:]\n",
    "ms"
   ]
  },
  {
   "cell_type": "code",
   "execution_count": 51,
   "metadata": {},
   "outputs": [
    {
     "data": {
      "text/plain": [
       "'BLUE GLASS CHUNKY CHARM BRACELET'"
      ]
     },
     "execution_count": 51,
     "metadata": {},
     "output_type": "execute_result"
    }
   ],
   "source": [
    "products_dict[ms[4][0]][0]"
   ]
  },
  {
   "cell_type": "code",
   "execution_count": 52,
   "metadata": {},
   "outputs": [],
   "source": [
    "new_ms =[]\n",
    "def similar_by_product(product,topn):\n",
    "    #为输入的商品找出最相似的商品列表\n",
    "    vctor = model.similar_by_vector(model['90019A'] ,topn=topn+1)[1:]\n",
    "    #提取相似产品的名称和相似度评分\n",
    "    for i in vctor:\n",
    "        description = ( i[0],products_dict[i[0]][0] ,i[1])\n",
    "        new_ms.append(description)\n",
    "    return new_ms\n"
   ]
  },
  {
   "cell_type": "code",
   "execution_count": 53,
   "metadata": {
    "scrolled": true
   },
   "outputs": [
    {
     "data": {
      "text/plain": [
       "[('90018A', 'SILVER M.O.P ORBIT DROP EARRINGS', 0.7636033296585083),\n",
       " ('90160D', 'PINK BOUDICCA LARGE BRACELET', 0.7512990832328796),\n",
       " ('90120B', 'BLUE MURANO TWIST BRACELET', 0.7402127981185913),\n",
       " ('90123A', 'PINK HEART OF GLASS BRACELET', 0.7402055263519287),\n",
       " ('90175C', 'BLUE GLASS CHUNKY CHARM BRACELET', 0.7379810810089111),\n",
       " ('90161A', 'ANT COPPER RED BOUDICCA BRACELET', 0.7296504974365234)]"
      ]
     },
     "execution_count": 53,
     "metadata": {},
     "output_type": "execute_result"
    }
   ],
   "source": [
    "similar_by_product(model['90019A'] ,6)"
   ]
  },
  {
   "cell_type": "code",
   "execution_count": null,
   "metadata": {
    "collapsed": true
   },
   "outputs": [],
   "source": [
    "# 太酷了!结果还是非常相关，并且与输入商品匹配得很好。然而，这个输出仅基于单个商品的向量。如果我们想根据他或她过去的多次购买来推荐商品呢?\n",
    "\n",
    "# 一个简单的解决方案是取用户迄今为止购买的所有商品的向量的平均值，并使用这个结果向量找到类似的商品。\n",
    "# 我们将使用下面的函数，它接收一个商品id列表，并返回一个100维的向量，它是输入列表中商品的向量的平均值:"
   ]
  },
  {
   "cell_type": "code",
   "execution_count": 62,
   "metadata": {},
   "outputs": [],
   "source": [
    "def aggregate_vectors(products):\n",
    "    product_vec = []\n",
    "    for i in products:\n",
    "        try:\n",
    "            product_vec.append(model[i])\n",
    "        except KeyError:\n",
    "            continue\n",
    "    return np.mean(product_vec, axis=0)"
   ]
  },
  {
   "cell_type": "code",
   "execution_count": 63,
   "metadata": {},
   "outputs": [
    {
     "data": {
      "text/plain": [
       "585"
      ]
     },
     "execution_count": 63,
     "metadata": {},
     "output_type": "execute_result"
    }
   ],
   "source": [
    "\n",
    "len(purchases_val[0])"
   ]
  },
  {
   "cell_type": "code",
   "execution_count": 64,
   "metadata": {},
   "outputs": [
    {
     "data": {
      "text/plain": [
       "(100,)"
      ]
     },
     "execution_count": 64,
     "metadata": {},
     "output_type": "execute_result"
    }
   ],
   "source": [
    "aggregate_vectors(purchases_val[0]).shape"
   ]
  },
  {
   "cell_type": "code",
   "execution_count": 66,
   "metadata": {},
   "outputs": [
    {
     "data": {
      "text/plain": [
       "[('90018A', 'SILVER M.O.P ORBIT DROP EARRINGS', 0.7636033296585083),\n",
       " ('90160D', 'PINK BOUDICCA LARGE BRACELET', 0.7512990832328796),\n",
       " ('90120B', 'BLUE MURANO TWIST BRACELET', 0.7402127981185913),\n",
       " ('90123A', 'PINK HEART OF GLASS BRACELET', 0.7402055263519287),\n",
       " ('90175C', 'BLUE GLASS CHUNKY CHARM BRACELET', 0.7379810810089111),\n",
       " ('90161A', 'ANT COPPER RED BOUDICCA BRACELET', 0.7296504974365234),\n",
       " ('90018A', 'SILVER M.O.P ORBIT DROP EARRINGS', 0.7636033296585083),\n",
       " ('90160D', 'PINK BOUDICCA LARGE BRACELET', 0.7512990832328796),\n",
       " ('90120B', 'BLUE MURANO TWIST BRACELET', 0.7402127981185913),\n",
       " ('90123A', 'PINK HEART OF GLASS BRACELET', 0.7402055263519287),\n",
       " ('90175C', 'BLUE GLASS CHUNKY CHARM BRACELET', 0.7379810810089111),\n",
       " ('90161A', 'ANT COPPER RED BOUDICCA BRACELET', 0.7296504974365234)]"
      ]
     },
     "execution_count": 66,
     "metadata": {},
     "output_type": "execute_result"
    }
   ],
   "source": [
    "\n",
    "similar_by_product(aggregate_vectors(purchases_val[0]) ,topn=6)"
   ]
  },
  {
   "cell_type": "code",
   "execution_count": 67,
   "metadata": {},
   "outputs": [
    {
     "data": {
      "text/plain": [
       "[('90018A', 'SILVER M.O.P ORBIT DROP EARRINGS', 0.7636033296585083),\n",
       " ('90160D', 'PINK BOUDICCA LARGE BRACELET', 0.7512990832328796),\n",
       " ('90120B', 'BLUE MURANO TWIST BRACELET', 0.7402127981185913),\n",
       " ('90123A', 'PINK HEART OF GLASS BRACELET', 0.7402055263519287),\n",
       " ('90175C', 'BLUE GLASS CHUNKY CHARM BRACELET', 0.7379810810089111),\n",
       " ('90161A', 'ANT COPPER RED BOUDICCA BRACELET', 0.7296504974365234),\n",
       " ('90018A', 'SILVER M.O.P ORBIT DROP EARRINGS', 0.7636033296585083),\n",
       " ('90160D', 'PINK BOUDICCA LARGE BRACELET', 0.7512990832328796),\n",
       " ('90120B', 'BLUE MURANO TWIST BRACELET', 0.7402127981185913),\n",
       " ('90123A', 'PINK HEART OF GLASS BRACELET', 0.7402055263519287),\n",
       " ('90175C', 'BLUE GLASS CHUNKY CHARM BRACELET', 0.7379810810089111),\n",
       " ('90161A', 'ANT COPPER RED BOUDICCA BRACELET', 0.7296504974365234),\n",
       " ('90018A', 'SILVER M.O.P ORBIT DROP EARRINGS', 0.7636033296585083),\n",
       " ('90160D', 'PINK BOUDICCA LARGE BRACELET', 0.7512990832328796),\n",
       " ('90120B', 'BLUE MURANO TWIST BRACELET', 0.7402127981185913),\n",
       " ('90123A', 'PINK HEART OF GLASS BRACELET', 0.7402055263519287),\n",
       " ('90175C', 'BLUE GLASS CHUNKY CHARM BRACELET', 0.7379810810089111),\n",
       " ('90161A', 'ANT COPPER RED BOUDICCA BRACELET', 0.7296504974365234)]"
      ]
     },
     "execution_count": 67,
     "metadata": {},
     "output_type": "execute_result"
    }
   ],
   "source": [
    "similar_by_product(aggregate_vectors(purchases_val[0][-10:]) ,topn=6)"
   ]
  },
  {
   "cell_type": "code",
   "execution_count": null,
   "metadata": {
    "collapsed": true
   },
   "outputs": [],
   "source": []
  }
 ],
 "metadata": {
  "kernelspec": {
   "display_name": "Python 3",
   "language": "python",
   "name": "python3"
  },
  "language_info": {
   "codemirror_mode": {
    "name": "ipython",
    "version": 3
   },
   "file_extension": ".py",
   "mimetype": "text/x-python",
   "name": "python",
   "nbconvert_exporter": "python",
   "pygments_lexer": "ipython3",
   "version": "3.6.3"
  }
 },
 "nbformat": 4,
 "nbformat_minor": 2
}
